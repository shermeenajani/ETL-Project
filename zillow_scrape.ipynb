{
 "cells": [
  {
   "cell_type": "code",
   "execution_count": 1,
   "id": "cab6c3a6",
   "metadata": {},
   "outputs": [],
   "source": [
    "from bs4 import BeautifulSoup\n",
    "import time\n",
    "import json\n",
    "import pymongo\n",
    "import requests"
   ]
  },
  {
   "cell_type": "code",
   "execution_count": 2,
   "id": "8712e426",
   "metadata": {},
   "outputs": [],
   "source": [
    "# Set up connection to local MongoDB\n",
    "conn = 'mongodb://localhost:27017'\n",
    "client = pymongo.MongoClient(conn)"
   ]
  },
  {
   "cell_type": "code",
   "execution_count": 3,
   "id": "5eabe12e",
   "metadata": {},
   "outputs": [],
   "source": [
    "# Define database and collection\n",
    "db = client.housing_db\n",
    "collection = db.zillow_listings\n",
    "\n",
    "collection.drop()"
   ]
  },
  {
   "cell_type": "code",
   "execution_count": 4,
   "id": "d3c417ec",
   "metadata": {},
   "outputs": [],
   "source": [
    "#Use session request headers to avoid Zillow detecting automation and popping up captcha\n",
    "request_headers = {\n",
    "    'accept':\n",
    "    'text/html,application/xhtml+xml,application/xml;q=0.9,image/webp,image/apng,*/*;q=0.8',\n",
    "    'accept-encoding': 'gzip, deflate, br',\n",
    "    'accept-language': 'en-US,en;q=0.8',\n",
    "    'upgrade-insecure-requests': '1',\n",
    "    'user-agent': 'Mozilla/5.0 (Windows NT 10.0; Win64; x64) AppleWebKit/537.36 (KHTML, like Gecko) Chrome/61.0.3163.100 Safari/537.36'\n",
    "    }\n",
    "\n",
    "#Create session and grab first page of listings\n",
    "with requests.Session() as session:\n",
    "\n",
    "    url = 'https://www.zillow.com/johns-creek-ga/'\n",
    "    response = session.get(url, headers=request_headers)\n",
    "\n",
    "not_done = True;\n",
    "\n",
    "previous_ext = ''\n",
    "\n",
    "#While loop to control paging\n",
    "while not_done:\n",
    "    \n",
    "    # Create BeautifulSoup object; parse with 'html.parser'\n",
    "    soup = BeautifulSoup(response.content, 'html.parser')\n",
    "\n",
    "    # Zillow HTLM contains a large script element with a json of every listing on the page, \n",
    "    # it includes all attributes needed, thereby eliminating the need to visit individual \n",
    "    # detail listing pages\n",
    "    listings = soup.findAll(\"script\", type=\"application/json\")\n",
    "    temp = listings[1].contents[0].string.strip(\"<!--\")\n",
    "    temp = temp.strip(\"-->\")\n",
    "    temp_json = json.loads(temp)\n",
    "    houses = temp_json[\"cat1\"]\n",
    "    results = houses[\"searchResults\"]\n",
    "    houselist = results[\"listResults\"]\n",
    "\n",
    "    for listing in houselist:\n",
    "        list_dict = {\"addrStreet\": listing[\"addressStreet\"],\n",
    "                    \"addrCity\": listing[\"addressCity\"],\n",
    "                    \"addrState\": listing[\"addressState\"],\n",
    "                    \"addrZip\": listing[\"addressZipcode\"],\n",
    "                    \"estPrice\": listing[\"zestimate\"],\n",
    "                    \"listPrice\": listing[\"unformattedPrice\"],\n",
    "                    \"noOfBeds\": listing[\"beds\"], \n",
    "                    \"noOfBaths\": listing[\"baths\"],\n",
    "                    \"sqFootage\": listing[\"area\"],\n",
    "                    \"listingUrl\": listing[\"detailUrl\"],\n",
    "                    \"listingSource\": \"Zillow\"}\n",
    "        collection.insert_one(list_dict)\n",
    "        \n",
    "    #Find url extension for next page\n",
    "    next_page = soup.find('a', rel='next')\n",
    "    extension = next_page['href']\n",
    "    \n",
    "    #Compare to prior 'next page' url to make sure last page isn't reached\n",
    "    if extension == previous_ext:\n",
    "        not_done = False\n",
    "    else:\n",
    "        previous_ext = extension\n",
    "        with requests.Session() as session:\n",
    "            url = 'https://www.zillow.com'+extension\n",
    "            response = session.get(url, headers=request_headers)\n",
    "            soup = BeautifulSoup(response.content, 'html.parser')\n",
    "\n"
   ]
  },
  {
   "cell_type": "code",
   "execution_count": null,
   "id": "7a42f946",
   "metadata": {},
   "outputs": [],
   "source": []
  }
 ],
 "metadata": {
  "kernelspec": {
   "display_name": "Python 3",
   "language": "python",
   "name": "python3"
  },
  "language_info": {
   "codemirror_mode": {
    "name": "ipython",
    "version": 3
   },
   "file_extension": ".py",
   "mimetype": "text/x-python",
   "name": "python",
   "nbconvert_exporter": "python",
   "pygments_lexer": "ipython3",
   "version": "3.8.8"
  }
 },
 "nbformat": 4,
 "nbformat_minor": 5
}
